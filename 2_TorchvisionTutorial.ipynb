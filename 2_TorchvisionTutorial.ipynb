{
  "nbformat": 4,
  "nbformat_minor": 0,
  "metadata": {
    "colab": {
      "name": "2_TorchvisionTutorial.ipynb",
      "version": "0.3.2",
      "provenance": [],
      "include_colab_link": true
    },
    "kernelspec": {
      "name": "python3",
      "display_name": "Python 3"
    }
  },
  "cells": [
    {
      "cell_type": "markdown",
      "metadata": {
        "id": "view-in-github",
        "colab_type": "text"
      },
      "source": [
        "<a href=\"https://colab.research.google.com/github/Maupin1991/ML_pytorch_tutorial/blob/master/2_TorchvisionTutorial.ipynb\" target=\"_parent\"><img src=\"https://colab.research.google.com/assets/colab-badge.svg\" alt=\"Open In Colab\"/></a>"
      ]
    },
    {
      "cell_type": "markdown",
      "metadata": {
        "id": "1VzgNrz8owuw",
        "colab_type": "text"
      },
      "source": [
        "# Torchvision"
      ]
    },
    {
      "cell_type": "markdown",
      "metadata": {
        "id": "zwL_afGYo0Yq",
        "colab_type": "text"
      },
      "source": [
        "Torchvision is a package that contains popular datasets, models and transformations for computer vision.\n",
        "We can load the famous MNIST dataset with some simple command."
      ]
    },
    {
      "cell_type": "code",
      "metadata": {
        "id": "ws4erD96oK-a",
        "colab_type": "code",
        "colab": {}
      },
      "source": [
        "from torchvision import datasets, transforms, utils\n",
        "import torch\n",
        "import matplotlib.pyplot as plt\n",
        "import numpy as np"
      ],
      "execution_count": 0,
      "outputs": []
    },
    {
      "cell_type": "code",
      "metadata": {
        "id": "MQjSv1pmls7O",
        "colab_type": "code",
        "colab": {}
      },
      "source": [
        "# Define a transform to normalize the data\n",
        "transform = transforms.Compose([transforms.ToTensor(),\n",
        "                              transforms.Normalize((0.5,), (0.5,)),\n",
        "                              ])\n",
        "# Download and load the training data\n",
        "path = '~/.pytorch/MNIST_data/'\n",
        "trainset = datasets.MNIST(path, download=True, train=True, transform=transform)\n",
        "trainloader = torch.utils.data.DataLoader(trainset, batch_size=32, shuffle=True)"
      ],
      "execution_count": 0,
      "outputs": []
    },
    {
      "cell_type": "markdown",
      "metadata": {
        "id": "bXqARvNqpIUE",
        "colab_type": "text"
      },
      "source": [
        "The DataLoader returns a generator with the image data and labels, already organized in batches. We can iterate through the loader with a **for** loop, or simply get the first batch with the **iter()** and **next** methods."
      ]
    },
    {
      "cell_type": "code",
      "metadata": {
        "id": "rMfv37ZElzev",
        "colab_type": "code",
        "colab": {}
      },
      "source": [
        "dataiter = iter(trainloader)\n",
        "images, labels = dataiter.next()\n",
        "print(type(images))\n",
        "print(images.shape)\n",
        "print(labels.shape)"
      ],
      "execution_count": 0,
      "outputs": []
    },
    {
      "cell_type": "code",
      "metadata": {
        "id": "NkN0U8Ocodc3",
        "colab_type": "code",
        "colab": {}
      },
      "source": [
        "plt.imshow(images[0].numpy().squeeze(), cmap='Greys_r');"
      ],
      "execution_count": 0,
      "outputs": []
    },
    {
      "cell_type": "code",
      "metadata": {
        "id": "WiKeH3DXj1Xc",
        "colab_type": "code",
        "colab": {}
      },
      "source": [
        "def show(batch):\n",
        "    img = utils.make_grid(batch, nrow=8, padding=2, normalize=False, \n",
        "                          range=None, scale_each=False, pad_value=0)\n",
        "    npimg = img.numpy()\n",
        "    plt.imshow(np.transpose(npimg, (1,2,0)), interpolation='nearest')\n",
        "    plt.axis(\"off\")\n",
        "    \n",
        "show(images)"
      ],
      "execution_count": 0,
      "outputs": []
    }
  ]
}