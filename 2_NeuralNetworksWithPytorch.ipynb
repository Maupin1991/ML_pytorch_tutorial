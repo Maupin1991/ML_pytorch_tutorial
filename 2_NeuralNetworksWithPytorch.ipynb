{
  "nbformat": 4,
  "nbformat_minor": 0,
  "metadata": {
    "colab": {
      "name": "2_NeuralNetworksWithPytorch.ipynb",
      "version": "0.3.2",
      "provenance": [],
      "collapsed_sections": [],
      "include_colab_link": true
    },
    "kernelspec": {
      "name": "python3",
      "display_name": "Python 3"
    }
  },
  "cells": [
    {
      "cell_type": "markdown",
      "metadata": {
        "id": "view-in-github",
        "colab_type": "text"
      },
      "source": [
        "<a href=\"https://colab.research.google.com/github/Maupin1991/ML_pytorch_tutorial/blob/master/2_NeuralNetworksWithPytorch.ipynb\" target=\"_parent\"><img src=\"https://colab.research.google.com/assets/colab-badge.svg\" alt=\"Open In Colab\"/></a>"
      ]
    },
    {
      "cell_type": "markdown",
      "metadata": {
        "id": "eL5vtaeEgxUB",
        "colab_type": "text"
      },
      "source": [
        "# Neural Networks with Pytorch"
      ]
    },
    {
      "cell_type": "markdown",
      "metadata": {
        "id": "YsD8AgLAgwB0",
        "colab_type": "text"
      },
      "source": [
        "We could build a neural network defining the layers as tensors and connecting them with linear operations and activation functions. In general, the easiest way to build a neural network is the module **nn**, which provides easier interfaces for this task."
      ]
    },
    {
      "cell_type": "code",
      "metadata": {
        "id": "5GopcnEHiOMr",
        "colab_type": "code",
        "colab": {}
      },
      "source": [
        "import torch\n",
        "from torch import nn"
      ],
      "execution_count": 0,
      "outputs": []
    },
    {
      "cell_type": "code",
      "metadata": {
        "id": "73DLyfMfgkOZ",
        "colab_type": "code",
        "colab": {}
      },
      "source": [
        "class Network(nn.Module):\n",
        "    def __init__(self):\n",
        "        super().__init__()\n",
        "        \n",
        "        # Inputs to hidden layer linear transformation\n",
        "        self.hidden = nn.Linear(784, 256)\n",
        "        # Output layer, 10 units - one for each digit\n",
        "        self.output = nn.Linear(256, 10)\n",
        "        \n",
        "        # Define sigmoid activation and softmax output \n",
        "        self.sigmoid = nn.Sigmoid()\n",
        "        self.softmax = nn.Softmax(dim=1) # calculates along columns\n",
        "        \n",
        "    def forward(self, x):\n",
        "        # Pass the input tensor through each of our operations\n",
        "        x = self.hidden(x)\n",
        "        x = self.sigmoid(x)\n",
        "        x = self.output(x)\n",
        "        x = self.softmax(x)\n",
        "        \n",
        "        return x"
      ],
      "execution_count": 0,
      "outputs": []
    },
    {
      "cell_type": "markdown",
      "metadata": {
        "id": "D8xD0_vIhl8M",
        "colab_type": "text"
      },
      "source": [
        "Here we're inheriting from **nn.Module**. Combined with** super().\\__init\\__()** this creates a class that tracks the architecture and provides a lot of useful methods and attributes. It is mandatory to inherit from nn.Module when you're creating a class for your network. The name of the class itself can be anything.\n",
        "\n",
        "The weights and bias are automatically initialized with random values.\n",
        "\n",
        "The **forward** method defines the sequence of the operations that need to be computed for getting the output from the network."
      ]
    },
    {
      "cell_type": "code",
      "metadata": {
        "id": "iftUcRPKho31",
        "colab_type": "code",
        "colab": {}
      },
      "source": [
        "net = Network()\n",
        "print(net)\n",
        "# DON'T USE THIS! print(net.forward(torch.randn(1, 784)))\n",
        "# the __call__ method performs more operations for both consistency and optimization \n",
        "print(net(torch.randn(1, 784)))"
      ],
      "execution_count": 0,
      "outputs": []
    },
    {
      "cell_type": "code",
      "metadata": {
        "id": "2Py4rp9Yhszg",
        "colab_type": "code",
        "colab": {}
      },
      "source": [
        "# access hidden layer weights and bias\n",
        "# (note that they are already initialized)\n",
        "print(net.hidden.weight)\n",
        "print(net.hidden.bias)\n",
        "\n",
        "# sample from random normal with standard dev = 0.01 and mean = 3\n",
        "# (note the inplace operation)\n",
        "net.hidden.weight.data.normal_(std=0.01, mean=3)\n",
        "print(net.hidden.weight)"
      ],
      "execution_count": 0,
      "outputs": []
    },
    {
      "cell_type": "markdown",
      "metadata": {
        "id": "RkfhsKtvhwuv",
        "colab_type": "text"
      },
      "source": [
        "Often programmers prefer to use the functional module, which allows to define the network in a more compact way. The **nn.functional** module is imported as **F** as a convention."
      ]
    },
    {
      "cell_type": "code",
      "metadata": {
        "id": "c6XiKNJVh_Gn",
        "colab_type": "code",
        "colab": {}
      },
      "source": [
        "import torch.nn.functional as F\n",
        "\n",
        "class Network(nn.Module):\n",
        "    def __init__(self):\n",
        "        super().__init__()\n",
        "        # Inputs to hidden layer linear transformation\n",
        "        self.hidden = nn.Linear(784, 256)\n",
        "        # Output layer, 10 units - one for each digit\n",
        "        self.output = nn.Linear(256, 10)\n",
        "        \n",
        "    def forward(self, x):\n",
        "        # Hidden layer with sigmoid activation\n",
        "        x = F.sigmoid(self.hidden(x))\n",
        "        # Output layer with softmax activation\n",
        "        x = F.softmax(self.output(x), dim=1)\n",
        "        \n",
        "        return x\n",
        "    \n",
        "model = Network()\n",
        "print(model)"
      ],
      "execution_count": 0,
      "outputs": []
    },
    {
      "cell_type": "markdown",
      "metadata": {
        "id": "qdzGPLs6iBL8",
        "colab_type": "text"
      },
      "source": [
        "Other kinds of activation functions are defined in the Functional module. Have a look at the **ReLU** operation."
      ]
    },
    {
      "cell_type": "code",
      "metadata": {
        "id": "iWpNE9D4iDp7",
        "colab_type": "code",
        "colab": {}
      },
      "source": [
        "class Network(nn.Module):\n",
        "    def __init__(self):\n",
        "        super().__init__()\n",
        "        # Defining the layers, 128, 64, 10 units each\n",
        "        self.fc1 = nn.Linear(784, 128)\n",
        "        self.fc2 = nn.Linear(128, 64)\n",
        "        # Output layer, 10 units - one for each digit\n",
        "        self.fc3 = nn.Linear(64, 10)\n",
        "        \n",
        "    def forward(self, x):\n",
        "        ''' Forward pass through the network, returns the output logits '''\n",
        "        \n",
        "        x = self.fc1(x)\n",
        "        x = F.relu(x)\n",
        "        x = self.fc2(x)\n",
        "        x = F.relu(x)\n",
        "        x = self.fc3(x)\n",
        "        x = F.softmax(x, dim=1)\n",
        "        \n",
        "        return x\n",
        "\n",
        "model = Network()\n",
        "print(model)"
      ],
      "execution_count": 0,
      "outputs": []
    },
    {
      "cell_type": "markdown",
      "metadata": {
        "id": "ki2cJBPDiF2W",
        "colab_type": "text"
      },
      "source": [
        "**FASTEST WAY! Use sequential class. It allows to define the sequence of operations and layers sequentially.\n",
        "Check out also the definition of model with OrderedDict.**"
      ]
    },
    {
      "cell_type": "code",
      "metadata": {
        "id": "1EqVWyD2iIaM",
        "colab_type": "code",
        "colab": {}
      },
      "source": [
        "# Hyperparameters for our network\n",
        "input_size = 784\n",
        "hidden_sizes = [128, 64]\n",
        "output_size = 10\n",
        "\n",
        "# Build a feed-forward network\n",
        "model1 = nn.Sequential(nn.Linear(input_size, hidden_sizes[0]),\n",
        "                       nn.ReLU(),\n",
        "                       nn.Linear(hidden_sizes[0], hidden_sizes[1]),\n",
        "                       nn.ReLU(),\n",
        "                       nn.Linear(hidden_sizes[1], output_size),\n",
        "                       nn.Softmax(dim=1))\n",
        "print(model1)\n",
        "\n",
        "# Ordered dict implementation\n",
        "from collections import OrderedDict\n",
        "model2 = nn.Sequential(OrderedDict([\n",
        "                       ('fc1', nn.Linear(input_size, hidden_sizes[0])),\n",
        "                       ('relu1', nn.ReLU()),\n",
        "                       ('fc2', nn.Linear(hidden_sizes[0], hidden_sizes[1])),\n",
        "                       ('relu2', nn.ReLU()),\n",
        "                       ('output', nn.Linear(hidden_sizes[1], output_size)),\n",
        "                       ('softmax', nn.Softmax(dim=1))]))\n",
        "print(model2)\n",
        "\n",
        "print(model1[0])\n",
        "print(model2[0])\n",
        "print(model2.fc1)"
      ],
      "execution_count": 0,
      "outputs": []
    }
  ]
}