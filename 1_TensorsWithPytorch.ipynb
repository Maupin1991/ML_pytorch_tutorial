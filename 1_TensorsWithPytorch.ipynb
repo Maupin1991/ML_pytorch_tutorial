{
  "nbformat": 4,
  "nbformat_minor": 0,
  "metadata": {
    "colab": {
      "name": "1_TensorsWithPytorch.ipynb",
      "version": "0.3.2",
      "provenance": [],
      "collapsed_sections": [],
      "include_colab_link": true
    },
    "kernelspec": {
      "name": "python3",
      "display_name": "Python 3"
    },
    "accelerator": "GPU"
  },
  "cells": [
    {
      "cell_type": "markdown",
      "metadata": {
        "id": "view-in-github",
        "colab_type": "text"
      },
      "source": [
        "<a href=\"https://colab.research.google.com/github/Maupin1991/ML_pytorch_tutorial/blob/master/1_TensorsWithPytorch.ipynb\" target=\"_parent\"><img src=\"https://colab.research.google.com/assets/colab-badge.svg\" alt=\"Open In Colab\"/></a>"
      ]
    },
    {
      "cell_type": "markdown",
      "metadata": {
        "id": "t7OEgMkMhkJs",
        "colab_type": "text"
      },
      "source": [
        "# Tensors"
      ]
    },
    {
      "cell_type": "markdown",
      "metadata": {
        "id": "vn9qyu8cXHKW",
        "colab_type": "text"
      },
      "source": [
        "Tensors are similar to the arrays you already know from Numpy. One big advantage of using Pytorch Tensors is the fact that they can easily moved to GPU for faster processing. Another **HUGE** advantage is that they provide methods to automatically calculate **gradients**."
      ]
    },
    {
      "cell_type": "code",
      "metadata": {
        "id": "8NJj-QtfQdnP",
        "colab_type": "code",
        "colab": {}
      },
      "source": [
        "import torch\n",
        "import matplotlib.pyplot as plt\n",
        "import numpy as np"
      ],
      "execution_count": 0,
      "outputs": []
    },
    {
      "cell_type": "code",
      "metadata": {
        "id": "D3FneEF6e1ns",
        "colab_type": "code",
        "colab": {}
      },
      "source": [
        "print(torch.cuda.is_available())"
      ],
      "execution_count": 0,
      "outputs": []
    },
    {
      "cell_type": "code",
      "metadata": {
        "id": "juDlDpoYQiG7",
        "colab_type": "code",
        "colab": {}
      },
      "source": [
        "# Create random tensors\n",
        "torch.manual_seed(4)\n",
        "\n",
        "features = torch.randn((1, 5))\n",
        "weights = torch.randn_like(features)\n",
        "bias = torch.randn((1, 1))\n",
        "\n",
        "torch.mm(features, weights.t())"
      ],
      "execution_count": 0,
      "outputs": []
    },
    {
      "cell_type": "markdown",
      "metadata": {
        "id": "9PTzEhpHddmS",
        "colab_type": "text"
      },
      "source": [
        "### Tensor shape modification\n",
        "We will often need to perform  shape modification on tensors. There are three options:\n",
        "* **x.reshape(a, b)**: will return a new tensor with the same data sometimes, and sometimes a clone\n",
        "* **x.resize_(a, b)**: *in-place* operation. Will return the same tensor with a different shape. Use this responsibly!(What happens if the new shape results in different number of elementrs than the original?) \n",
        "* **x.view(a, b)**: will return a new tensor with the same data as x but new size"
      ]
    },
    {
      "cell_type": "code",
      "metadata": {
        "id": "sK4GaFN1R9Fg",
        "colab_type": "code",
        "colab": {}
      },
      "source": [
        "# Size method of class Tensor\n",
        "print(weights.shape)"
      ],
      "execution_count": 0,
      "outputs": []
    },
    {
      "cell_type": "code",
      "metadata": {
        "id": "hEbiTvKZ3bXi",
        "colab_type": "code",
        "colab": {}
      },
      "source": [
        "# create new tensor to break\n",
        "x = torch.randn((1, 25))\n",
        "\n",
        "print(\"Original tensor x\")\n",
        "print(x)\n",
        "print(x.shape)\n",
        "\n",
        "print(\"\\n\\nView tensor x\")\n",
        "x_view = x.view(5, 5)\n",
        "print(x_view)\n",
        "print(x_view.shape, x.shape)\n",
        "\n",
        "print(\"\\n\\nReshape tensor x\")\n",
        "x_reshape = x.reshape(5, 5)\n",
        "print(x_reshape)\n",
        "print(x_reshape.shape, x.shape)\n",
        "\n",
        "print(\"\\n\\nInplace resize tensor x\")\n",
        "x.resize_(25, 1)\n",
        "print(x_view.shape, x_reshape.shape, x.shape)\n",
        "\n",
        "print(\"\\n\\nTensor x after reshape\")\n",
        "print(x)"
      ],
      "execution_count": 0,
      "outputs": []
    },
    {
      "cell_type": "code",
      "metadata": {
        "id": "27idBhHKhCGj",
        "colab_type": "code",
        "colab": {}
      },
      "source": [
        "# Tensors from numpy arrays\n",
        "a = np.ones((4, 5))\n",
        "b = torch.from_numpy(a)\n",
        "print(b)"
      ],
      "execution_count": 0,
      "outputs": []
    }
  ]
}